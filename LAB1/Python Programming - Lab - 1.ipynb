{
 "cells": [
  {
   "cell_type": "markdown",
   "metadata": {},
   "source": [
    "<a href='https://www.darshan.ac.in/'> <img src='https://www.darshan.ac.in/Content/media/DU_Logo.svg' width=\"250\" height=\"10\"/></a>\n",
    "<pre>\n",
    "<center><b><h1>Python Programming - 2301CS404</b></center>\n",
    "<center><b><h1>Lab - 1</b></center>    \n",
    "<pre>"
   ]
  },
  {
   "cell_type": "markdown",
   "metadata": {},
   "source": [
    "### 01) WAP to print “Hello World”"
   ]
  },
  {
   "cell_type": "code",
   "execution_count": 1,
   "metadata": {},
   "outputs": [
    {
     "name": "stdout",
     "output_type": "stream",
     "text": [
      "Hello World\n"
     ]
    }
   ],
   "source": [
    "print(\"Hello World\")"
   ]
  },
  {
   "cell_type": "markdown",
   "metadata": {},
   "source": [
    "### 02) WAP to print addition of two numbers with and without using input()."
   ]
  },
  {
   "cell_type": "code",
   "execution_count": 19,
   "metadata": {},
   "outputs": [
    {
     "name": "stdout",
     "output_type": "stream",
     "text": [
      "sum of two numbers is :  3379240 (with using input)\n",
      "sum of 12234 and 1818181 is :  1830415 (without using input)\n"
     ]
    }
   ],
   "source": [
    "number1 = int(input(\"enter 1st number\"))\n",
    "number2 = int(input(\"enter 2nd number\"))\n",
    "print(\"sum of two numbers is : \" , number1+number2 , \"(with using input)\")\n",
    "print(\"sum of 12234 and 1818181 is : \",12234+1818181 , \"(without using input)\")   "
   ]
  },
  {
   "cell_type": "markdown",
   "metadata": {},
   "source": [
    "### 03) WAP to check the type of the variable."
   ]
  },
  {
   "cell_type": "code",
   "execution_count": 4,
   "metadata": {},
   "outputs": [
    {
     "name": "stdout",
     "output_type": "stream",
     "text": [
      "Type of number is :  <class 'int'>\n",
      "Type of number is :  <class 'str'>\n"
     ]
    }
   ],
   "source": [
    "number_1 = 1234567890\n",
    "print(\"Type of number is : \", type(number_1))\n",
    "\n",
    "number_2 = \"7762316161\"\n",
    "print(\"Type of number is : \", type(number_2))\n"
   ]
  },
  {
   "cell_type": "markdown",
   "metadata": {},
   "source": [
    "### 04) WAP to calculate simple interest."
   ]
  },
  {
   "cell_type": "code",
   "execution_count": 2,
   "metadata": {},
   "outputs": [
    {
     "name": "stdout",
     "output_type": "stream",
     "text": [
      "principal amount is :  10000000.0\n",
      "rate of interest is :  5.0\n",
      "time period is :  3.0\n",
      "Simple Interest is :  1500000.0\n"
     ]
    }
   ],
   "source": [
    "P = float(input(\"Enter the total principal amount :\"))\n",
    "\n",
    "R = float(input(\"Enter the rate of interest :\"))\n",
    "\n",
    "T = float(input(\"Enter the total time period in years :\"))\n",
    "\n",
    "SI = (P * R * T) / 100\n",
    "\n",
    "print(\"principal amount is : \",P )\n",
    "print(\"rate of interest is : \", R )\n",
    "print(\"time period is : \", T )\n",
    "\n",
    "print(\"Simple Interest is : \", SI)\n"
   ]
  },
  {
   "cell_type": "markdown",
   "metadata": {},
   "source": [
    "### 05) WAP to calculate area and perimeter of a circle."
   ]
  },
  {
   "cell_type": "code",
   "execution_count": null,
   "metadata": {},
   "outputs": [
    {
     "name": "stdout",
     "output_type": "stream",
     "text": [
      "Area of Circle is :  1662.5714285714284 meters squre\n",
      "Perimeter of Circle is :  144.57142857142856 meters\n"
     ]
    }
   ],
   "source": [
    "Radius = float(input(\"Enter the radius of the circle in meters :\"))\n",
    "\n",
    "print(\"Area of Circle is : \", (22/7)*Radius**2 ,\"meters squre\" )\n",
    "\n",
    "print(\"Perimeter of Circle is : \", 2*(22/7)*Radius ,\"meters\" )"
   ]
  },
  {
   "cell_type": "markdown",
   "metadata": {},
   "source": [
    "### 06) WAP to calculate area of a triangle."
   ]
  },
  {
   "cell_type": "code",
   "execution_count": 5,
   "metadata": {},
   "outputs": [
    {
     "name": "stdout",
     "output_type": "stream",
     "text": [
      "Area of the triangle is :  25.0 squre meters\n"
     ]
    }
   ],
   "source": [
    "H1 = float(input(\"enter the height of the triangle\"))\n",
    "\n",
    "B1 = float(input(\"enter the base of the triangle\"))\n",
    "\n",
    "Area = (1/2)*H1*B1\n",
    "\n",
    "print(\"Area of the triangle is : \", Area, \"squre meters\")"
   ]
  },
  {
   "cell_type": "markdown",
   "metadata": {},
   "source": [
    "### 07) WAP to compute quotient and remainder."
   ]
  },
  {
   "cell_type": "code",
   "execution_count": 9,
   "metadata": {},
   "outputs": [
    {
     "name": "stdout",
     "output_type": "stream",
     "text": [
      "when we solve  4999 / 7\n",
      "Quotient is :  714\n",
      "Remainder is :  1\n"
     ]
    }
   ],
   "source": [
    "Dividend = int(input(\" enter the divident number : \"))\n",
    "Divisor = int(input(\" enter the divisor number : \"))\n",
    "\n",
    "Quotient =int(Dividend / Divisor) \n",
    "Remainder = Dividend % Divisor\n",
    "print(\"when we solve \",Dividend,\"/\",Divisor)\n",
    "print(\"Quotient is : \", Quotient )\n",
    "print(\"Remainder is : \", Remainder )"
   ]
  },
  {
   "cell_type": "markdown",
   "metadata": {},
   "source": [
    "### 08) WAP to convert degree into Fahrenheit and vice versa."
   ]
  },
  {
   "cell_type": "code",
   "execution_count": 12,
   "metadata": {},
   "outputs": [
    {
     "name": "stdout",
     "output_type": "stream",
     "text": [
      "54.0 °C is 129.2 °F.\n"
     ]
    }
   ],
   "source": [
    "\n",
    "temp = float(input(\"Enter the temperature: \"))\n",
    "unit = input(\"Is it in Celsius (C) or Fahrenheit (F)? \").strip().upper()\n",
    "\n",
    "if unit == \"C\":\n",
    "    fahrenheit = (temp * 9/5) + 32\n",
    "    print(temp, \"°C is\", round(fahrenheit, 2), \"°F.\")\n",
    "elif unit == \"F\":\n",
    "    celsius = (temp - 32) * 5/9\n",
    "    print(temp, \"°F is\", round(celsius, 2), \"°C.\")\n",
    "else:\n",
    "    print(\"Invalid unit. Please enter 'C' for Celsius or 'F' for Fahrenheit.\")\n"
   ]
  },
  {
   "cell_type": "markdown",
   "metadata": {},
   "source": [
    "### 09) WAP to find the distance between two points in 2-D space."
   ]
  },
  {
   "cell_type": "code",
   "execution_count": null,
   "metadata": {},
   "outputs": [],
   "source": [
    "import math\n",
    "\n",
    "x1, y1 = float(input(\"Enter x1: \")), float(input(\"Enter y1: \"))\n",
    "x2, y2 = float(input(\"Enter x2: \")), float(input(\"Enter y2: \"))\n",
    "\n",
    "distance = math.sqrt((x2 - x1)**2 + (y2 - y1)**2)\n",
    "\n",
    "print(\"The distance between the points is :\", round(distance, 2))"
   ]
  },
  {
   "cell_type": "markdown",
   "metadata": {},
   "source": [
    "### 10) WAP to print sum of n natural numbers."
   ]
  },
  {
   "cell_type": "code",
   "execution_count": null,
   "metadata": {},
   "outputs": [
    {
     "name": "stdout",
     "output_type": "stream",
     "text": [
      "sum of first 100 natural numbers is 5050.0\n"
     ]
    }
   ],
   "source": [
    "n= int(input(\"enter the nth natural number : \"))\n",
    "\n",
    "sum = (n*(n+1))/2\n",
    "\n",
    "print(\"sum of first\", n, \"natural numbers is\", sum)"
   ]
  },
  {
   "cell_type": "markdown",
   "metadata": {},
   "source": [
    "### 11) WAP to print sum of square of n natural numbers."
   ]
  },
  {
   "cell_type": "code",
   "execution_count": 9,
   "metadata": {},
   "outputs": [
    {
     "name": "stdout",
     "output_type": "stream",
     "text": [
      "sum of the squares of first 100 natural numbers is 338350.0\n"
     ]
    }
   ],
   "source": [
    "n = int(input(\"enter the nth natural number : \"))\n",
    "\n",
    "sum = (n*(n+1)*(2*n+1))/6\n",
    "\n",
    "print(\"sum of the squares of first\", n, \"natural numbers is\", sum)"
   ]
  },
  {
   "cell_type": "markdown",
   "metadata": {},
   "source": [
    "### 12) WAP to concate the first and last name of the student."
   ]
  },
  {
   "cell_type": "code",
   "execution_count": 12,
   "metadata": {},
   "outputs": [
    {
     "name": "stdout",
     "output_type": "stream",
     "text": [
      "JAY PATEL\n"
     ]
    }
   ],
   "source": [
    "first_name = input(\"Enter the first name: \")\n",
    "last_name = input(\"Enter the last name: \")\n",
    "\n",
    "print(first_name + \" \" +last_name)\n"
   ]
  },
  {
   "cell_type": "markdown",
   "metadata": {},
   "source": [
    "### 13) WAP to swap two numbers."
   ]
  },
  {
   "cell_type": "code",
   "execution_count": 13,
   "metadata": {},
   "outputs": [
    {
     "name": "stdout",
     "output_type": "stream",
     "text": [
      "After swapping, the numbers are:  20 and 10\n"
     ]
    }
   ],
   "source": [
    "num1 = int(input(\"Enter the first number: \"))\n",
    "num2 = int(input(\"Enter the second number: \"))\n",
    "\n",
    "# temp = num1\n",
    "# num1 = num2\n",
    "# num2 = temp\n",
    "\n",
    "\n",
    "num1, num2 = num2, num1\n",
    "\n",
    "print(\"After swapping, the numbers are: \", num1, \"and\", num2)"
   ]
  },
  {
   "cell_type": "markdown",
   "metadata": {},
   "source": [
    "### 14) WAP to get the distance from user into kilometer, and convert it into meter, feet, inches and centimeter."
   ]
  },
  {
   "cell_type": "code",
   "execution_count": 14,
   "metadata": {},
   "outputs": [
    {
     "name": "stdout",
     "output_type": "stream",
     "text": [
      "The distance in meters is  520000  meters\n",
      "The distance in centimeters is  52000000  centimeters\n",
      "The distance in millimeters is  520000000  millimeters\n",
      "The distance in inches is  20472400  inches\n",
      "The distance in feet is  1706036.8  feet\n",
      "The distance in yards is  568677.2  yards\n",
      "The distance in miles is  323.11292000000003  miles\n"
     ]
    }
   ],
   "source": [
    "\n",
    "distance = int(input(\"Enter the total distance in kilometers : \"))\n",
    "\n",
    "print(\"The distance in meters is \", distance * 1000 ,\" meters\")\n",
    "print(\"The distance in centimeters is \", distance * 100000 ,\" centimeters\")\n",
    "print(\"The distance in millimeters is \", distance * 1000000 ,\" millimeters\")\n",
    "print(\"The distance in inches is \", distance * 39370 ,\" inches\")\n",
    "print(\"The distance in feet is \", distance * 3280.84 ,\" feet\")\n",
    "print(\"The distance in yards is \", distance * 1093.61 ,\" yards\")\n",
    "print(\"The distance in miles is \", distance * 0.621371 ,\" miles\")\n"
   ]
  },
  {
   "cell_type": "markdown",
   "metadata": {},
   "source": [
    "### 15) WAP to get day, month and year from the user and print the date in the given format: 23-11-2024."
   ]
  },
  {
   "cell_type": "code",
   "execution_count": 17,
   "metadata": {},
   "outputs": [
    {
     "name": "stdout",
     "output_type": "stream",
     "text": [
      "Date is : 3-4-2005\n"
     ]
    }
   ],
   "source": [
    "day = int(input(\"Enter the day in dd format: \"))\n",
    "month = int(input(\"Enter the month in mm format: \"))\n",
    "year = int(input(\"Enter the year in yyyy format: \"))\n",
    "\n",
    "print(\"Date is : \", day, sep=\"\", end=\"-\")\n",
    "print(month, year, sep=\"-\")"
   ]
  }
 ],
 "metadata": {
  "kernelspec": {
   "display_name": "Python 3",
   "language": "python",
   "name": "python3"
  },
  "language_info": {
   "codemirror_mode": {
    "name": "ipython",
    "version": 3
   },
   "file_extension": ".py",
   "mimetype": "text/x-python",
   "name": "python",
   "nbconvert_exporter": "python",
   "pygments_lexer": "ipython3",
   "version": "3.12.1"
  }
 },
 "nbformat": 4,
 "nbformat_minor": 4
}

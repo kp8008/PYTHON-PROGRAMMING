{
 "cells": [
  {
   "cell_type": "markdown",
   "metadata": {},
   "source": [
    "\n",
    "<a href='https://www.darshan.ac.in/'> <img src='https://www.darshan.ac.in/Content/media/DU_Logo.svg' width=\"250\" height=\"300\"/></a>\n",
    "<pre>\n",
    "<center><b><h1>Python Programming - 2301CS404</b></center>\n",
    "<center><b><h1>Lab - 2</b></center>    \n",
    "<pre>"
   ]
  },
  {
   "cell_type": "markdown",
   "metadata": {},
   "source": [
    "# if..else.."
   ]
  },
  {
   "cell_type": "markdown",
   "metadata": {},
   "source": [
    "### 01) WAP to check whether the given number is positive or negative."
   ]
  },
  {
   "cell_type": "code",
   "execution_count": 4,
   "metadata": {},
   "outputs": [
    {
     "name": "stdin",
     "output_type": "stream",
     "text": [
      "enter 1st number 5\n"
     ]
    },
    {
     "name": "stdout",
     "output_type": "stream",
     "text": [
      "positive\n"
     ]
    }
   ],
   "source": [
    "number = int(input(\"enter 1st number\"))\n",
    "if number>0:\n",
    "   print('positive')\n",
    "else:\n",
    "    print('negative')"
   ]
  },
  {
   "cell_type": "markdown",
   "metadata": {},
   "source": [
    "### 02) WAP to check whether the given number is odd or even."
   ]
  },
  {
   "cell_type": "code",
   "execution_count": 6,
   "metadata": {},
   "outputs": [
    {
     "name": "stdin",
     "output_type": "stream",
     "text": [
      "enter 1st number 45\n"
     ]
    },
    {
     "name": "stdout",
     "output_type": "stream",
     "text": [
      "odd\n"
     ]
    }
   ],
   "source": [
    "number = int(input(\"enter 1st number\"))\n",
    "if number%2==0:\n",
    "   print('even')\n",
    "else:\n",
    "    print('odd')"
   ]
  },
  {
   "cell_type": "markdown",
   "metadata": {},
   "source": [
    "### 03) WAP to find out largest number from given two numbers using simple if and ternary operator."
   ]
  },
  {
   "cell_type": "code",
   "execution_count": 10,
   "metadata": {},
   "outputs": [
    {
     "name": "stdin",
     "output_type": "stream",
     "text": [
      "enter 1st number 45\n",
      "enter 2nd number 12\n"
     ]
    },
    {
     "name": "stdout",
     "output_type": "stream",
     "text": [
      "n1 large \n"
     ]
    }
   ],
   "source": [
    "n1 =  int(input(\"enter 1st number\"))\n",
    "n2 =  int(input(\"enter 2nd number\"))\n",
    "if n1>n2:\n",
    "    print('n1 large ')\n",
    "else:\n",
    "    print('n2 large ')\n",
    "\n",
    "max='n1 is max' if n1>n2 else 'n2 is max'\n",
    "print('max')"
   ]
  },
  {
   "cell_type": "markdown",
   "metadata": {},
   "source": [
    "### 04) WAP to find out largest number from given three numbers."
   ]
  },
  {
   "cell_type": "code",
   "execution_count": 15,
   "metadata": {},
   "outputs": [
    {
     "name": "stdin",
     "output_type": "stream",
     "text": [
      "enter 1st number 12\n",
      "enter 2nd number 13\n",
      "enter 3rd number 14\n"
     ]
    },
    {
     "name": "stdout",
     "output_type": "stream",
     "text": [
      "n3 is large \n"
     ]
    }
   ],
   "source": [
    "n1 =  int(input(\"enter 1st number\"))\n",
    "n2 =  int(input(\"enter 2nd number\"))\n",
    "n3 =  int(input(\"enter 3rd number\"))\n",
    "if n1>n2 and n1>n3:\n",
    "    print('n1 is large')\n",
    "elif n2>n1 and n2>n3:\n",
    "    print('n2 is large ')\n",
    "else:\n",
    "    print('n3 is large ')\n"
   ]
  },
  {
   "cell_type": "markdown",
   "metadata": {},
   "source": [
    "### 05) WAP to check whether the given year is leap year or not.\n",
    "[If a year can be divisible by 4 but not divisible by 100 then it is leap year but if it is divisible by 400 then it is leap year]"
   ]
  },
  {
   "cell_type": "code",
   "execution_count": 21,
   "metadata": {},
   "outputs": [
    {
     "name": "stdin",
     "output_type": "stream",
     "text": [
      "enter 1st no :  2005\n"
     ]
    },
    {
     "name": "stdout",
     "output_type": "stream",
     "text": [
      "non leap year\n"
     ]
    }
   ],
   "source": [
    "a = int(input(\"enter 1st no : \"))\n",
    "if((a%400==0)or(a%100!=0)and(a%4==0)):\n",
    "    print('leap year')\n",
    "else:\n",
    "    print('non leap year')"
   ]
  },
  {
   "cell_type": "markdown",
   "metadata": {},
   "source": [
    "### 06) WAP in python to display the name of the day according to the number given by the user."
   ]
  },
  {
   "cell_type": "code",
   "execution_count": 23,
   "metadata": {},
   "outputs": [
    {
     "name": "stdin",
     "output_type": "stream",
     "text": [
      "enter number 4\n"
     ]
    },
    {
     "name": "stdout",
     "output_type": "stream",
     "text": [
      "thru\n"
     ]
    }
   ],
   "source": [
    "a=int(input(\"enter number\"))\n",
    "if(a==1):\n",
    "    print('monday')\n",
    "elif(a==2):\n",
    "    print('tue')\n",
    "elif(a==3):\n",
    "    print('wed')\n",
    "elif(a==4):\n",
    "    print('thru')\n",
    "elif(a==5):\n",
    "    print('fri')\n",
    "elif(a==6):\n",
    "    print('sat')\n",
    "else:\n",
    "    print('sun')"
   ]
  },
  {
   "cell_type": "markdown",
   "metadata": {},
   "source": [
    "### 07) WAP to implement simple calculator which performs (add,sub,mul,div) of two no. based on user input."
   ]
  },
  {
   "cell_type": "code",
   "execution_count": 27,
   "metadata": {},
   "outputs": [
    {
     "name": "stdin",
     "output_type": "stream",
     "text": [
      "enter 1st number 4\n",
      "enter 2nd number 5\n",
      "enter oprator /\n"
     ]
    },
    {
     "name": "stdout",
     "output_type": "stream",
     "text": [
      "0.8\n"
     ]
    }
   ],
   "source": [
    "n1 =  int(input(\"enter 1st number\"))\n",
    "n2 =  int(input(\"enter 2nd number\"))\n",
    "n3 =  (input(\"enter oprator\"))\n",
    "\n",
    "if(n3=='+'):\n",
    "    print(n1+n2)\n",
    "elif(n3=='-'):\n",
    "    print(n1-n2)\n",
    "elif(n3=='*'):\n",
    "    print(n1*n2)\n",
    "elif(n3=='/'):\n",
    "    print(n1/n2)\n",
    "elif(n3=='%'):\n",
    "    print(n1%n2)\n",
    "else:\n",
    "    print('invalid oprator')"
   ]
  },
  {
   "cell_type": "markdown",
   "metadata": {},
   "source": [
    "### 08) WAP to read marks of five subjects. Calculate percentage and print class accordingly. \n",
    "Fail below 35 </br>\n",
    "Pass Class between 35 to 45 </br>\n",
    "Second Class</br>\n",
    "between 45 to 60</br>\n",
    "First Class between 60 to 70</br> \n",
    "Distinction if more than 70"
   ]
  },
  {
   "cell_type": "code",
   "execution_count": 29,
   "metadata": {},
   "outputs": [
    {
     "name": "stdin",
     "output_type": "stream",
     "text": [
      "enter your number 4\n",
      "enter your number 5\n",
      "enter your number 44\n",
      "enter your number 55\n",
      "enter your number 44\n"
     ]
    },
    {
     "name": "stdout",
     "output_type": "stream",
     "text": [
      "fail\n"
     ]
    }
   ],
   "source": [
    "a=int(input(\"enter your number\"))\n",
    "b=int(input(\"enter your number\"))\n",
    "c=int(input(\"enter your number\"))\n",
    "d=int(input(\"enter your number\"))\n",
    "e=int(input(\"enter your number\"))\n",
    "\n",
    "ans=float((a+b+c+d+e)/5)\n",
    "\n",
    "if(ans<35):\n",
    "    print('fail')\n",
    "    \n",
    "elif(35<=ans and ans<45):\n",
    "    print('pass class')\n",
    "    \n",
    "elif(45<=ans and ans<60):\n",
    "    print('second class')\n",
    "    \n",
    "elif(60<=ans and ans<70):\n",
    "    print('first class')\n",
    "    \n",
    "elif(ans>70):\n",
    "    print('Distinction class')"
   ]
  },
  {
   "cell_type": "markdown",
   "metadata": {},
   "source": [
    "### 09) Three sides of a triangle are entered through the keyboard, WAP to check whether the triangle is isosceles, equilateral, scalene or right-angled triangle."
   ]
  },
  {
   "cell_type": "code",
   "execution_count": 2,
   "metadata": {},
   "outputs": [
    {
     "name": "stdin",
     "output_type": "stream",
     "text": [
      "Enter side1 length :  45\n",
      "Enter side2 length :  70\n",
      "Enter side3 length :  30\n"
     ]
    },
    {
     "name": "stdout",
     "output_type": "stream",
     "text": [
      "Scalene triangle\n"
     ]
    }
   ],
   "source": [
    "s1 = float(input(\"Enter side1 length : \"))\n",
    "s2 = float(input(\"Enter side2 length : \"))\n",
    "s3 = float(input(\"Enter side3 length : \"))\n",
    "\n",
    "if(s1==s2 and s2==s3):\n",
    "    print(\"Equilateral triangle\")\n",
    "elif(s1==s2 or s1==s3 or s2==s3):\n",
    "    print(\"Isosceles triangle\")\n",
    "elif(s1!=s2 and s2!=s3):\n",
    "    print(\"Scalene triangle\")\n",
    "else:\n",
    "    print(\"Right-angle triangle\")"
   ]
  },
  {
   "cell_type": "markdown",
   "metadata": {},
   "source": [
    "### 10) WAP to find the second largest number among three user input numbers."
   ]
  },
  {
   "cell_type": "code",
   "execution_count": 6,
   "metadata": {},
   "outputs": [
    {
     "name": "stdin",
     "output_type": "stream",
     "text": [
      "Enter a :  6\n",
      "Enter b :  8\n",
      "Enter c :  4\n"
     ]
    },
    {
     "name": "stdout",
     "output_type": "stream",
     "text": [
      "a is second greates\n"
     ]
    }
   ],
   "source": [
    "a = int(input(\"Enter a : \"))\n",
    "b = int(input(\"Enter b : \"))\n",
    "c = int(input(\"Enter c : \"))\n",
    "if(a>b):\n",
    "    if(b>c):\n",
    "        print(\"b is second largest\")\n",
    "    else:\n",
    "        if(a>c):\n",
    "            print(\"c is second largest\")\n",
    "        else:\n",
    "            print(\"a is second largest\")\n",
    "else:\n",
    "    if(a>c):\n",
    "        print(\"a is second greates\")\n",
    "    else:\n",
    "        if(b>c):\n",
    "            print(\"c is second largest\")\n",
    "        else:\n",
    "            print(\"b is second largest\")"
   ]
  },
  {
   "cell_type": "markdown",
   "metadata": {},
   "source": [
    "### 11) WAP to calculate electricity bill based on following criteria. Which takes the unit from the user.\n",
    "a. First 1 to 50 units – Rs. 2.60/unit</br>\n",
    "b. Next 50 to 100 units – Rs. 3.25/unit</br>\n",
    "c. Next 100 to 200 units – Rs. 5.26/unit</br>\n",
    "d. above 200 units – Rs. 8.45/unit"
   ]
  },
  {
   "cell_type": "code",
   "execution_count": 8,
   "metadata": {},
   "outputs": [
    {
     "name": "stdin",
     "output_type": "stream",
     "text": [
      "Enter unit :  42\n"
     ]
    },
    {
     "name": "stdout",
     "output_type": "stream",
     "text": [
      "Your bill for 42 unit is 109.2\n"
     ]
    }
   ],
   "source": [
    "unit = int(input(\"Enter unit : \"))\n",
    "rs = 0.0;\n",
    "\n",
    "if(unit>=1 and unit<50):\n",
    "    rs = unit*2.60\n",
    "elif(unit>=50 and unit<100):\n",
    "    rs = 50*2.60 + (unit-50)*3.25\n",
    "elif(unit>=100 and unit<200):\n",
    "    rs = 50*2.60 + 50*3.25 + (unit-100)*5.26\n",
    "else:\n",
    "    rs = 50*2.60 + 50*3.25 + 100*5.26 + (unit-200)*8.45\n",
    "    \n",
    "print(\"Your bill for\",unit,\"unit is\",rs)"
   ]
  },
  {
   "cell_type": "code",
   "execution_count": null,
   "metadata": {},
   "outputs": [],
   "source": []
  }
 ],
 "metadata": {
  "kernelspec": {
   "display_name": "Python 3 (ipykernel)",
   "language": "python",
   "name": "python3"
  },
  "language_info": {
   "codemirror_mode": {
    "name": "ipython",
    "version": 3
   },
   "file_extension": ".py",
   "mimetype": "text/x-python",
   "name": "python",
   "nbconvert_exporter": "python",
   "pygments_lexer": "ipython3",
   "version": "3.12.7"
  }
 },
 "nbformat": 4,
 "nbformat_minor": 4
}

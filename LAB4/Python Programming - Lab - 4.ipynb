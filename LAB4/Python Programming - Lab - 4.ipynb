{
 "cells": [
  {
   "cell_type": "markdown",
   "metadata": {},
   "source": [
    "\n",
    "<a href='https://www.darshan.ac.in/'> <img src='https://www.darshan.ac.in/Content/media/DU_Logo.svg' width=\"250\" height=\"300\"/></a>\n",
    "<pre>\n",
    "<center><b><h1>Python Programming - 2301CS404</b></center>\n",
    "<center><b><h1>Lab - 4</b></center>    \n",
    "<pre>"
   ]
  },
  {
   "cell_type": "markdown",
   "metadata": {},
   "source": [
    "# String"
   ]
  },
  {
   "cell_type": "markdown",
   "metadata": {},
   "source": [
    "### 01) WAP to check whether the given string is palindrome or not."
   ]
  },
  {
   "cell_type": "code",
   "execution_count": 3,
   "metadata": {},
   "outputs": [
    {
     "name": "stdin",
     "output_type": "stream",
     "text": [
      "Enter String: 121\n"
     ]
    },
    {
     "name": "stdout",
     "output_type": "stream",
     "text": [
      "String Are Palindrome\n"
     ]
    }
   ],
   "source": [
    "str = input(\"Enter String:\")\n",
    "rev = str[::-1]\n",
    "if(rev==str):\n",
    " print(\"String Are Palindrome\")\n",
    "else:\n",
    " print(\"String Are Not Palindrome\")"
   ]
  },
  {
   "cell_type": "markdown",
   "metadata": {},
   "source": [
    "### 02) WAP to reverse the words in the given string."
   ]
  },
  {
   "cell_type": "code",
   "execution_count": 5,
   "metadata": {},
   "outputs": [
    {
     "name": "stdin",
     "output_type": "stream",
     "text": [
      "Enter String: prince\n"
     ]
    },
    {
     "name": "stdout",
     "output_type": "stream",
     "text": [
      "Reverse: ecnirp\n"
     ]
    }
   ],
   "source": [
    "str = input(\"Enter String:\")\n",
    "rev = str[::-1]\n",
    "print(\"Reverse:\",rev)"
   ]
  },
  {
   "cell_type": "markdown",
   "metadata": {},
   "source": [
    "### 03) WAP to remove ith character from given string."
   ]
  },
  {
   "cell_type": "code",
   "execution_count": 7,
   "metadata": {},
   "outputs": [
    {
     "name": "stdin",
     "output_type": "stream",
     "text": [
      "Enter String: prince\n",
      "Enter Number That You Want To Remove: 2\n"
     ]
    },
    {
     "name": "stdout",
     "output_type": "stream",
     "text": [
      "prnce\n"
     ]
    }
   ],
   "source": [
    "str = input(\"Enter String:\")\n",
    "i = int(input(\"Enter Number of char to remove :\"))\n",
    "ans = str[0:i:] + str[i+1::]\n",
    "print(ans)"
   ]
  },
  {
   "cell_type": "markdown",
   "metadata": {},
   "source": [
    "### 04) WAP to find length of string without using len function."
   ]
  },
  {
   "cell_type": "code",
   "execution_count": 11,
   "metadata": {},
   "outputs": [
    {
     "name": "stdin",
     "output_type": "stream",
     "text": [
      "Enter String: prince katariya\n"
     ]
    },
    {
     "name": "stdout",
     "output_type": "stream",
     "text": [
      "15\n"
     ]
    }
   ],
   "source": [
    "str = input(\"Enter String:\")\n",
    "ans = 0\n",
    "for i in str:\n",
    " ans=ans+1\n",
    "print(ans)"
   ]
  },
  {
   "cell_type": "markdown",
   "metadata": {},
   "source": [
    "### 05) WAP to print even length word in string."
   ]
  },
  {
   "cell_type": "code",
   "execution_count": 32,
   "metadata": {},
   "outputs": [
    {
     "name": "stdin",
     "output_type": "stream",
     "text": [
      "Enter String: abcd sgd hh fffg gdd\n"
     ]
    },
    {
     "name": "stdout",
     "output_type": "stream",
     "text": [
      "Even Word: abcd\n",
      "Even Word: hh\n",
      "Even Word: fffg\n"
     ]
    }
   ],
   "source": [
    "str = input(\"Enter String:\")\n",
    "s=str.split(\" \")\n",
    "for i in s:\n",
    " if(len(i)%2==0):\n",
    "     print(\"Even Word:\",i)"
   ]
  },
  {
   "cell_type": "markdown",
   "metadata": {},
   "source": [
    "### 06) WAP to count numbers of vowels in given string."
   ]
  },
  {
   "cell_type": "code",
   "execution_count": 44,
   "metadata": {},
   "outputs": [
    {
     "name": "stdin",
     "output_type": "stream",
     "text": [
      "Enter String: Abcdefghjkiou\n"
     ]
    },
    {
     "name": "stdout",
     "output_type": "stream",
     "text": [
      "5\n"
     ]
    }
   ],
   "source": [
    "str = input(\"Enter String:\")\n",
    "ans = 0\n",
    "for i in str:\n",
    "    if(i=='i' or i=='a' or i=='e' or i=='u' or i=='o' or i=='I' or i=='A' or i=='E' or i=='U' or i=='O'):\n",
    "     ans+=1\n",
    "print(ans)"
   ]
  },
  {
   "cell_type": "markdown",
   "metadata": {},
   "source": [
    "### 07) WAP to capitalize the first and last character of each word in a string."
   ]
  },
  {
   "cell_type": "code",
   "execution_count": 57,
   "metadata": {},
   "outputs": [
    {
     "name": "stdin",
     "output_type": "stream",
     "text": [
      "Enter String: my name is prince\n"
     ]
    },
    {
     "name": "stdout",
     "output_type": "stream",
     "text": [
      " MY NamE IS PrincE\n"
     ]
    }
   ],
   "source": [
    "str = input(\"Enter String:\")\n",
    "str_words = str.split(\" \")\n",
    "temp = \"\"\n",
    "for word in str_words:\n",
    "    temp = temp + \" \" + word[0].upper() + word[1:-1] + word[-1].upper()\n",
    "\n",
    "print(temp)"
   ]
  },
  {
   "cell_type": "markdown",
   "metadata": {},
   "source": [
    "### 08) WAP to convert given array to string."
   ]
  },
  {
   "cell_type": "code",
   "execution_count": 59,
   "metadata": {},
   "outputs": [
    {
     "name": "stdout",
     "output_type": "stream",
     "text": [
      "12345\n",
      "<class 'str'>\n"
     ]
    }
   ],
   "source": [
    "arr = ['1','2','3','4','5']\n",
    "str = \"\".join(arr)\n",
    "print(f\"{str}\\n{type(str)}\")"
   ]
  },
  {
   "cell_type": "markdown",
   "metadata": {},
   "source": [
    "### 09) Check if the password and confirm password is same or not. \n",
    "### In case of only case's mistake, show the error message."
   ]
  },
  {
   "cell_type": "code",
   "execution_count": 61,
   "metadata": {},
   "outputs": [
    {
     "name": "stdin",
     "output_type": "stream",
     "text": [
      "enter password :  asdfg@\n",
      "enter confirm password :  Asdfg@\n"
     ]
    },
    {
     "name": "stdout",
     "output_type": "stream",
     "text": [
      "case's mistake\n"
     ]
    }
   ],
   "source": [
    "password = input(\"enter password : \")\n",
    "confirm = input(\"enter confirm password : \")\n",
    "if(password!=confirm):\n",
    "    if(password.lower()==confirm.lower()):\n",
    "        print(\"case's mistake\")\n",
    "    else:\n",
    "        print(\"password and confirm pass doesnt match\")\n",
    "else:\n",
    "    (\"corect password\")"
   ]
  },
  {
   "cell_type": "markdown",
   "metadata": {},
   "source": [
    "### 10) : Display credit card number. \n",
    "### card no. : 1234 5678 9012 3456\n",
    "### display as  : **** **** **** 3456"
   ]
  },
  {
   "cell_type": "code",
   "execution_count": 71,
   "metadata": {},
   "outputs": [
    {
     "name": "stdin",
     "output_type": "stream",
     "text": [
      "card no :  1111 2222 3333 4444\n"
     ]
    },
    {
     "name": "stdout",
     "output_type": "stream",
     "text": [
      "********4444\n"
     ]
    }
   ],
   "source": [
    "num = input(\"card no : \")\n",
    "num = num[15::]\n",
    "str = num.rjust(12,'*')\n",
    "print(str)"
   ]
  },
  {
   "cell_type": "markdown",
   "metadata": {},
   "source": [
    "### 11) : Checking if the two strings are Anagram or not.\n",
    "### s1 = decimal and s2 = medical are Anagram"
   ]
  },
  {
   "cell_type": "code",
   "execution_count": 4,
   "metadata": {},
   "outputs": [
    {
     "name": "stdin",
     "output_type": "stream",
     "text": [
      "enter 1st strings :  medical\n",
      "enter 2nd strings :  decimal\n"
     ]
    },
    {
     "name": "stdout",
     "output_type": "stream",
     "text": [
      "\"medical\" and \"decimal\" are anagrams.\n"
     ]
    }
   ],
   "source": [
    "s__1 = input(\"enter 1st strings : \")\n",
    "s__2 = input(\"enter 2nd strings : \")\n",
    "\n",
    "if sorted(s__1.lower()) == sorted(s__2.lower()):\n",
    "    print(f'\"{s__1}\" and \"{s__2}\" are anagrams.')\n",
    "else:\n",
    "    print(f'\"{s__1}\" and \"{s__2}\" are not anagrams.')"
   ]
  },
  {
   "cell_type": "markdown",
   "metadata": {},
   "source": [
    "### 12) : Rearrange the given string. First lowercase then uppercase alphabets.\n",
    "### input : EHlsarwiwhtwMV\n",
    "### output : lsarwiwhtwEHMV"
   ]
  },
  {
   "cell_type": "code",
   "execution_count": 2,
   "metadata": {},
   "outputs": [
    {
     "name": "stdin",
     "output_type": "stream",
     "text": [
      "enter the string :  kslklKDKRBbmsm\n"
     ]
    },
    {
     "name": "stdout",
     "output_type": "stream",
     "text": [
      "Rearranged string is :  kslklbmsmKDKRB\n"
     ]
    }
   ],
   "source": [
    "s0 = input(\"enter the string : \")\n",
    "\n",
    "l0 = list(s0)\n",
    "l1 = []\n",
    "l2 = []\n",
    "\n",
    "for i in l0:\n",
    "    if i.islower():\n",
    "        l1.append(i)\n",
    "    else:\n",
    "        l2.append(i)\n",
    "\n",
    "l4 = l1 + l2\n",
    "\n",
    "s1 = \"\".join(l4)\n",
    "\n",
    "print(\"Rearranged string is : \", s1)"
   ]
  }
 ],
 "metadata": {
  "kernelspec": {
   "display_name": "Python 3 (ipykernel)",
   "language": "python",
   "name": "python3"
  },
  "language_info": {
   "codemirror_mode": {
    "name": "ipython",
    "version": 3
   },
   "file_extension": ".py",
   "mimetype": "text/x-python",
   "name": "python",
   "nbconvert_exporter": "python",
   "pygments_lexer": "ipython3",
   "version": "3.12.7"
  },
  "vscode": {
   "interpreter": {
    "hash": "31f2aee4e71d21fbe5cf8b01ff0e069b9275f58929596ceb00d14d90e3e16cd6"
   }
  }
 },
 "nbformat": 4,
 "nbformat_minor": 4
}

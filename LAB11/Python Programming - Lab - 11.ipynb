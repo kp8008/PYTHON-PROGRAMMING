{
 "cells": [
  {
   "attachments": {},
   "cell_type": "markdown",
   "metadata": {},
   "source": [
    "<a href='https://www.darshan.ac.in/'> <img src='https://www.darshan.ac.in/Content/media/DU_Logo.svg' width=\"250\" height=\"300\"/></a>\n",
    "<pre>\n",
    "<center><b><h1>Python Programming - 2301CS404</b></center>\n",
    "<center><b><h1>Lab - 11</b></center>    \n",
    "<pre>"
   ]
  },
  {
   "cell_type": "markdown",
   "metadata": {},
   "source": [
    "# Modules"
   ]
  },
  {
   "cell_type": "markdown",
   "metadata": {},
   "source": [
    "### 01) WAP to create Calculator module which defines functions like add, sub,mul and div. \n",
    "### Create another .py file that uses the functions available in Calculator module."
   ]
  },
  {
   "cell_type": "code",
   "execution_count": 4,
   "metadata": {},
   "outputs": [
    {
     "name": "stdin",
     "output_type": "stream",
     "text": [
      "enter x :  40\n",
      "enter y :  10\n"
     ]
    },
    {
     "name": "stdout",
     "output_type": "stream",
     "text": [
      "40 + 10 = 50\n",
      "40 - 10 = 30\n",
      "40 * 10 = 400\n",
      "40 / 10 = 4.0\n"
     ]
    }
   ],
   "source": [
    "import calc\n",
    "\n",
    "x=int(input(\"enter x : \"))\n",
    "y=int(input(\"enter y : \"))\n",
    "\n",
    "print(f\"{x} + {y} = {calc.add(x, y)}\")\n",
    "print(f\"{x} - {y} = {calc.sub(x, y)}\")\n",
    "print(f\"{x} * {y} = {calc.mul(x, y)}\")\n",
    "print(f\"{x} / {y} = {calc.div(x, y)}\")"
   ]
  },
  {
   "cell_type": "markdown",
   "metadata": {},
   "source": [
    "### 02) WAP to pick a random character from a given String."
   ]
  },
  {
   "cell_type": "code",
   "execution_count": 35,
   "metadata": {},
   "outputs": [
    {
     "name": "stdout",
     "output_type": "stream",
     "text": [
      "W\n"
     ]
    }
   ],
   "source": [
    "import random\n",
    "\n",
    "my_string = \"Hello,World!\"\n",
    "\n",
    "random_character = random.choice(my_string)\n",
    "\n",
    "print(random_character)"
   ]
  },
  {
   "cell_type": "markdown",
   "metadata": {},
   "source": [
    "### 03) WAP to pick a random element from a given list."
   ]
  },
  {
   "cell_type": "code",
   "execution_count": 29,
   "metadata": {},
   "outputs": [
    {
     "name": "stdout",
     "output_type": "stream",
     "text": [
      "45\n"
     ]
    }
   ],
   "source": [
    "import random\n",
    "\n",
    "my_list=[1,2,3,4,5,6,7,8,9,11,12,45]\n",
    "\n",
    "random_element = random.choice(my_list)\n",
    "\n",
    "print(random_element)"
   ]
  },
  {
   "cell_type": "markdown",
   "metadata": {},
   "source": [
    "### 04) WAP to roll a dice in such a way that every time you get the same number."
   ]
  },
  {
   "cell_type": "code",
   "execution_count": 49,
   "metadata": {},
   "outputs": [
    {
     "name": "stdout",
     "output_type": "stream",
     "text": [
      "1\n",
      "1\n",
      "1\n"
     ]
    }
   ],
   "source": [
    "import random\n",
    "dice_roll = random.randint(1, 6)\n",
    "\n",
    "random.seed(2)\n",
    "print(random.randint(1, 6))\n",
    "\n",
    "\n",
    "random.seed(2)\n",
    "print(random.randint(1, 6))\n",
    "\n",
    "random.seed(2)\n",
    "print(random.randint(1, 6))"
   ]
  },
  {
   "cell_type": "markdown",
   "metadata": {},
   "source": [
    "### 05) WAP to generate 3 random integers between 100 and 999 which is divisible by 5."
   ]
  },
  {
   "cell_type": "code",
   "execution_count": 71,
   "metadata": {},
   "outputs": [
    {
     "name": "stdout",
     "output_type": "stream",
     "text": [
      "[840, 970, 300]\n"
     ]
    }
   ],
   "source": [
    "import random\n",
    "\n",
    "divisible_by_5 = [num for num in range(100, 999) if num % 5 == 0]\n",
    "\n",
    "\n",
    "random_integers = random.sample(divisible_by_5,k= 3)\n",
    "\n",
    "print(random_integers)"
   ]
  },
  {
   "cell_type": "markdown",
   "metadata": {},
   "source": [
    "### 06) WAP to generate 100 random lottery tickets and pick two lucky tickets from it and announce them as Winner and Runner up respectively."
   ]
  },
  {
   "cell_type": "code",
   "execution_count": 82,
   "metadata": {},
   "outputs": [
    {
     "name": "stdout",
     "output_type": "stream",
     "text": [
      "[935, 196, 117, 512, 321, 846, 682, 720, 495, 320, 202, 499, 998, 671, 885, 920, 304, 380, 862, 700, 694, 296, 601, 923, 726, 241, 108, 727, 794, 544, 593, 359, 625, 679, 277, 578, 829, 309, 878, 174, 458, 103, 597, 645, 785, 774, 167, 872, 705, 596, 790, 442, 570, 373, 614, 571, 128, 181, 728, 951, 455, 964, 877, 868, 903, 514, 361, 791, 740, 906, 836, 238, 155, 266, 611, 490, 575, 931, 401, 259, 110, 389, 670, 963, 101, 475, 134, 650, 491, 677, 553, 961, 792, 415, 610, 764, 236, 595, 806, 651]\n",
      "your winner 961\n",
      "your winner 878\n"
     ]
    }
   ],
   "source": [
    "import random\n",
    "ticket=random.sample(range(100,999),100)\n",
    "print(ticket)\n",
    "for i in range(1,3):\n",
    "    r=random.choice(ticket)\n",
    "    print('your winner',r)"
   ]
  },
  {
   "cell_type": "markdown",
   "metadata": {},
   "source": [
    "### 07) WAP to print current date and time in Python."
   ]
  },
  {
   "cell_type": "code",
   "execution_count": 84,
   "metadata": {},
   "outputs": [
    {
     "data": {
      "text/plain": [
       "datetime.datetime(2025, 2, 10, 10, 59, 4, 14653)"
      ]
     },
     "execution_count": 84,
     "metadata": {},
     "output_type": "execute_result"
    }
   ],
   "source": [
    "from datetime import datetime\n",
    "datetime.now()\n"
   ]
  },
  {
   "cell_type": "markdown",
   "metadata": {},
   "source": [
    "### 08) Subtract a week (7 days) from a given date in Python."
   ]
  },
  {
   "cell_type": "code",
   "execution_count": 86,
   "metadata": {},
   "outputs": [
    {
     "name": "stdout",
     "output_type": "stream",
     "text": [
      "New Date after subtracting a week: 2025-02-03 00:00:00\n"
     ]
    }
   ],
   "source": [
    "from datetime import datetime, timedelta\n",
    "\n",
    "given_date = datetime(2025, 2, 10)  \n",
    "new_date = given_date - timedelta(days=7)\n",
    "print(\"New Date after subtracting a week:\", new_date)"
   ]
  },
  {
   "cell_type": "markdown",
   "metadata": {},
   "source": [
    "### 09) WAP to Calculate number of days between two given dates."
   ]
  },
  {
   "cell_type": "code",
   "execution_count": 88,
   "metadata": {},
   "outputs": [
    {
     "name": "stdout",
     "output_type": "stream",
     "text": [
      "Number of days between dates: 40\n"
     ]
    }
   ],
   "source": [
    "from datetime import datetime\n",
    "\n",
    "date1 = datetime(2025, 1, 1)\n",
    "date2 = datetime(2025, 2, 10)\n",
    "\n",
    "difference = date2 - date1\n",
    "print(\"Number of days between dates:\", difference.days)"
   ]
  },
  {
   "cell_type": "markdown",
   "metadata": {},
   "source": [
    "### 10) WAP to Find the day of the week of a given date.(i.e. wether it is sunday/monday/tuesday/etc.)"
   ]
  },
  {
   "cell_type": "code",
   "execution_count": 90,
   "metadata": {},
   "outputs": [
    {
     "name": "stdout",
     "output_type": "stream",
     "text": [
      "Day of the week: Thursday\n"
     ]
    }
   ],
   "source": [
    "from datetime import datetime\n",
    "\n",
    "given_date = datetime(2025, 7, 10)\n",
    "day_of_week = given_date.strftime(\"%A\")\n",
    "print(\"Day of the week:\", day_of_week)\n"
   ]
  },
  {
   "cell_type": "markdown",
   "metadata": {},
   "source": [
    "### 11) WAP to demonstrate the use of date time module."
   ]
  },
  {
   "cell_type": "code",
   "execution_count": 92,
   "metadata": {},
   "outputs": [
    {
     "name": "stdout",
     "output_type": "stream",
     "text": [
      "Current Date and Time: 2025-02-10 11:01:21.550720\n",
      "Formatted Date and Time: 2025-02-10 11:01:21\n"
     ]
    }
   ],
   "source": [
    "from datetime import datetime\n",
    "\n",
    "now = datetime.now()\n",
    "print(\"Current Date and Time:\", now)\n",
    "\n",
    "formatted_date = now.strftime(\"%Y-%m-%d %H:%M:%S\")\n",
    "print(\"Formatted Date and Time:\", formatted_date)"
   ]
  },
  {
   "cell_type": "markdown",
   "metadata": {},
   "source": [
    "### 12) WAP to demonstrate the use of the math module."
   ]
  },
  {
   "cell_type": "code",
   "execution_count": 94,
   "metadata": {},
   "outputs": [
    {
     "name": "stdout",
     "output_type": "stream",
     "text": [
      "Pi: 3.141592653589793\n",
      "Square Root of 16: 4.0\n",
      "Factorial of 5: 120\n",
      "Cosine of 0 degrees: 1.0\n"
     ]
    }
   ],
   "source": [
    "import math\n",
    "\n",
    "print(\"Pi:\", math.pi)\n",
    "print(\"Square Root of 16:\", math.sqrt(16))\n",
    "print(\"Factorial of 5:\", math.factorial(5))\n",
    "print(\"Cosine of 0 degrees:\", math.cos(0))"
   ]
  }
 ],
 "metadata": {
  "kernelspec": {
   "display_name": "Python 3 (ipykernel)",
   "language": "python",
   "name": "python3"
  },
  "language_info": {
   "codemirror_mode": {
    "name": "ipython",
    "version": 3
   },
   "file_extension": ".py",
   "mimetype": "text/x-python",
   "name": "python",
   "nbconvert_exporter": "python",
   "pygments_lexer": "ipython3",
   "version": "3.12.7"
  }
 },
 "nbformat": 4,
 "nbformat_minor": 4
}

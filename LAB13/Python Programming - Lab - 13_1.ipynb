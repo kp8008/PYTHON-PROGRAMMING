{
 "cells": [
  {
   "cell_type": "markdown",
   "metadata": {},
   "source": [
    "<a href='https://www.darshan.ac.in/'> <img src='https://www.darshan.ac.in/Content/media/DU_Logo.svg' width=\"250\" height=\"300\"/></a>\n",
    "<pre>\n",
    "<center><b><h1>Python Programming - 2301CS404</b></center>\n",
    "<center><b><h1>Lab - 13</b></center>    \n",
    "<pre>"
   ]
  },
  {
   "cell_type": "markdown",
   "metadata": {},
   "source": [
    "# OOP"
   ]
  },
  {
   "cell_type": "markdown",
   "metadata": {},
   "source": [
    "### 01) Write a Program to create a class by name Students, and initialize attributes like name, age, and grade while creating an object."
   ]
  },
  {
   "cell_type": "code",
   "execution_count": 2,
   "metadata": {},
   "outputs": [
    {
     "name": "stdout",
     "output_type": "stream",
     "text": [
      "Name: kp, Age: 11, Grade: A\n"
     ]
    }
   ],
   "source": [
    "class Students:\n",
    "    def __init__(self,name,age,grade):\n",
    "        self.name = name\n",
    "        self.age = age\n",
    "        self.grade = grade\n",
    "\n",
    "student1 = Students(\"kp\",11,\"A\")\n",
    "print(f\"Name: {student1.name}, Age: {student1.age}, Grade: {student1.grade}\")"
   ]
  },
  {
   "cell_type": "markdown",
   "metadata": {},
   "source": [
    "### 02) Create a class named Bank_Account with Account_No, User_Name, Email,Account_Type and Account_Balance data members. Also create a method GetAccountDetails() and DisplayAccountDetails(). Create main method to demonstrate the Bank_Account class."
   ]
  },
  {
   "cell_type": "code",
   "execution_count": 18,
   "metadata": {},
   "outputs": [
    {
     "name": "stdin",
     "output_type": "stream",
     "text": [
      "Enter account number:  11\n",
      "Enter user name:  dd\n",
      "Enter email:  ddfdwwe\n",
      "Enter account type:  saving\n",
      "Enter account balance:  44444\n"
     ]
    },
    {
     "name": "stdout",
     "output_type": "stream",
     "text": [
      "detais given below:\n",
      "Account Number: 11\n",
      "User Name: dd\n",
      "Email: ddfdwwe\n",
      "Account Type: saving\n",
      "Account Balance: 44444.0\n"
     ]
    }
   ],
   "source": [
    "class Bank_Account:\n",
    "\n",
    "    def get_account_details(self):\n",
    "        self.account_no = input(\"Enter account number: \")\n",
    "        self.user_name = input(\"Enter user name: \")\n",
    "        self.email = input(\"Enter email: \")\n",
    "        self.account_type = input(\"Enter account type: \")\n",
    "        self.account_balance = float(input(\"Enter account balance: \"))\n",
    "\n",
    "    def display_account_details(self):\n",
    "        print(\"detais given below:\")\n",
    "        print(f\"Account Number: {self.account_no}\")\n",
    "        print(f\"User Name: {self.user_name}\")\n",
    "        print(f\"Email: {self.email}\")\n",
    "        print(f\"Account Type: {self.account_type}\")\n",
    "        print(f\"Account Balance: {self.account_balance}\")\n",
    "\n",
    "b1 = Bank_Account()\n",
    "b1.get_account_details()\n",
    "b1.display_account_details()"
   ]
  },
  {
   "cell_type": "markdown",
   "metadata": {},
   "source": [
    "### 03) WAP to create Circle class with area and perimeter function to find area and perimeter of circle."
   ]
  },
  {
   "cell_type": "code",
   "execution_count": 27,
   "metadata": {},
   "outputs": [
    {
     "name": "stdin",
     "output_type": "stream",
     "text": [
      "Enter radius :  5\n"
     ]
    },
    {
     "name": "stdout",
     "output_type": "stream",
     "text": [
      "78.5\n",
      "31.400000000000002\n"
     ]
    }
   ],
   "source": [
    "class Circle:\n",
    "    def GetDetails(self):\n",
    "        self.radius=int (input(\"Enter radius : \"))\n",
    "    def area(self):\n",
    "        return 3.14*(self.radius)*(self.radius)\n",
    "    def perimeter(self):\n",
    "        return 2*(3.14)*(self.radius)\n",
    "    def display(self,b,c):\n",
    "        print(b)\n",
    "        print(c)\n",
    "circle1=Circle()\n",
    "circle1.GetDetails()\n",
    "b = circle1.area()\n",
    "c = circle1.perimeter()\n",
    "circle1.display(b,c)"
   ]
  },
  {
   "cell_type": "markdown",
   "metadata": {},
   "source": [
    "### 04) Create a class for employees that includes attributes such as name, age, salary, and methods to update and display employee information."
   ]
  },
  {
   "cell_type": "code",
   "execution_count": 31,
   "metadata": {},
   "outputs": [
    {
     "name": "stdin",
     "output_type": "stream",
     "text": [
      "Enter user name:  prince\n",
      "Enter user age:  20\n",
      "Enter salary:  50000\n"
     ]
    },
    {
     "name": "stdout",
     "output_type": "stream",
     "text": [
      "Name: prince, Age: 20, Salary: 50000\n"
     ]
    }
   ],
   "source": [
    "class Employee:\n",
    "    def GetDetails(self):\n",
    "        self.name=input(\"Enter user name: \")\n",
    "        self.age=int(input(\"Enter user age: \"))\n",
    "        self.salary=int(input(\"Enter salary: \"))\n",
    "    def update_info(self, name=None, age=None, salary=None):\n",
    "        if name:\n",
    "            self.name = name\n",
    "        if age:\n",
    "            self.age = age\n",
    "        if salary:\n",
    "            self.salary = salary\n",
    "\n",
    "    def display_info(self):\n",
    "        print(f\"Name: {self.name}, Age: {self.age}, Salary: {self.salary}\")\n",
    "\n",
    "\n",
    "employee = Employee()\n",
    "employee.GetDetails()\n",
    "employee.display_info()\n",
    "employee.update_info()\n"
   ]
  },
  {
   "cell_type": "markdown",
   "metadata": {},
   "source": [
    "### 05) Create a bank account class with methods to deposit, withdraw, and check balance."
   ]
  },
  {
   "cell_type": "code",
   "execution_count": 29,
   "metadata": {},
   "outputs": [
    {
     "name": "stdin",
     "output_type": "stream",
     "text": [
      "Enter account number:  45\n",
      "Enter user name:  kp\n",
      "enter balance:  50000\n"
     ]
    },
    {
     "name": "stdout",
     "output_type": "stream",
     "text": [
      "Deposited 5000. New Balance: 55000\n",
      "Withdrew 1000. New Balance: 54000\n",
      "Current Balance: 54000\n"
     ]
    }
   ],
   "source": [
    "class Bank_Account:\n",
    "    def GetDetails(self):\n",
    "        self.account_no =int(input(\"Enter account number: \"))\n",
    "        self.user_name =input(\"Enter user name: \")\n",
    "        self.account_balance =int(input(\"enter balance: \"))\n",
    "\n",
    "    def deposit(self, amount):\n",
    "        self.account_balance += amount\n",
    "        print(f\"Deposited {amount}. New Balance: {self.account_balance}\")\n",
    "\n",
    "    def withdraw(self, amount):\n",
    "        if amount <= self.account_balance:\n",
    "            self.account_balance -= amount\n",
    "            print(f\"Withdrew {amount}. New Balance: {self.account_balance}\")\n",
    "        else:\n",
    "            print(\"Insufficient balance\")\n",
    "\n",
    "    def check_balance(self):\n",
    "        print(f\"Current Balance: {self.account_balance}\")\n",
    "\n",
    "account = Bank_Account()\n",
    "account.GetDetails()\n",
    "account.deposit(5000)\n",
    "account.withdraw(1000)\n",
    "account.check_balance()"
   ]
  },
  {
   "cell_type": "markdown",
   "metadata": {},
   "source": [
    "### 06) Create a class for managing inventory that includes attributes such as item name, price, quantity, and methods to add, remove, and update items."
   ]
  },
  {
   "cell_type": "code",
   "execution_count": 33,
   "metadata": {},
   "outputs": [
    {
     "name": "stdout",
     "output_type": "stream",
     "text": [
      "Item: Laptop, Price: 1000, Quantity: 5\n",
      "Item: Phone, Price: 500, Quantity: 10\n",
      "Item: Laptop, Price: 1000, Quantity: 5\n",
      "Item: Phone, Price: 500, Quantity: 12\n",
      "Item: Phone, Price: 500, Quantity: 12\n"
     ]
    }
   ],
   "source": [
    "class Inventory:\n",
    "    def __init__(self):\n",
    "        self.items = {}\n",
    "\n",
    "    def add_item(self, item_name, price, quantity):\n",
    "        self.items[item_name] = {'price': price, 'quantity': quantity}\n",
    "\n",
    "    def remove_item(self, item_name):\n",
    "        if item_name in self.items:\n",
    "            del self.items[item_name]\n",
    "        else:\n",
    "            print(f\"Item {item_name} not found in inventory.\")\n",
    "\n",
    "    def update_item(self, item_name, price=None, quantity=None):\n",
    "        if item_name in self.items:\n",
    "            if price:\n",
    "                self.items[item_name]['price'] = price\n",
    "            if quantity:\n",
    "                self.items[item_name]['quantity'] = quantity\n",
    "        else:\n",
    "            print(f\"Item {item_name} not found in inventory.\")\n",
    "\n",
    "    def display_inventory(self):\n",
    "        for item, details in self.items.items():\n",
    "            print(f\"Item: {item}, Price: {details['price']}, Quantity: {details['quantity']}\")\n",
    "\n",
    "inventory = Inventory()\n",
    "inventory.add_item(\"Laptop\", 1000, 5)\n",
    "inventory.add_item(\"Phone\", 500, 10)\n",
    "inventory.display_inventory()\n",
    "inventory.update_item(\"Phone\", quantity=12)\n",
    "inventory.display_inventory()\n",
    "inventory.remove_item(\"Laptop\")\n",
    "inventory.display_inventory()\n"
   ]
  },
  {
   "cell_type": "markdown",
   "metadata": {},
   "source": [
    "### 07) Create a Class with instance attributes of your choice."
   ]
  },
  {
   "cell_type": "code",
   "execution_count": 35,
   "metadata": {},
   "outputs": [
    {
     "name": "stdout",
     "output_type": "stream",
     "text": [
      "Title: The Great Gatsby, Author: F. Scott Fitzgerald, Pages: 180, Price: 10\n"
     ]
    }
   ],
   "source": [
    "class Book:\n",
    "    def __init__(self, title, author, pages, price):\n",
    "        self.title = title\n",
    "        self.author = author\n",
    "        self.pages = pages\n",
    "        self.price = price\n",
    "\n",
    "    def display_book_details(self):\n",
    "        print(f\"Title: {self.title}, Author: {self.author}, Pages: {self.pages}, Price: {self.price}\")\n",
    "\n",
    "book = Book(\"The Great Gatsby\", \"F. Scott Fitzgerald\", 180, 10)\n",
    "book.display_book_details()\n"
   ]
  },
  {
   "cell_type": "markdown",
   "metadata": {},
   "source": [
    "### 08) Create one class student_kit\n",
    "#### Within the student_kit class create one class attribute principal name ( Mr ABC )\n",
    "#### Create one attendance method and take input as number of days.\n",
    "#### While creating student take input their name .\n",
    "#### Create one certificate for each student by taking input of number of days present in class."
   ]
  },
  {
   "cell_type": "code",
   "execution_count": 45,
   "metadata": {},
   "outputs": [
    {
     "name": "stdout",
     "output_type": "stream",
     "text": [
      "Certificate for: raj\n",
      "Principal: prince\n",
      "Days Present: 75\n"
     ]
    }
   ],
   "source": [
    "class Student_Kit:\n",
    "    principal_name = \"prince\"\n",
    "\n",
    "    def __init__(self, name):\n",
    "        self.name = name\n",
    "\n",
    "    def attendance(self, days_present):\n",
    "        self.days_present = days_present\n",
    "\n",
    "    def certificate(self):\n",
    "        print(f\"Certificate for: {self.name}\")\n",
    "        print(f\"Principal: {Student_Kit.principal_name}\")\n",
    "        print(f\"Days Present: {self.days_present}\")\n",
    "\n",
    "student = Student_Kit(\"raj\")\n",
    "student.attendance(75)\n",
    "student.certificate()\n"
   ]
  },
  {
   "cell_type": "markdown",
   "metadata": {},
   "source": [
    "### 09) Define Time class with hour and minute as data member. Also define addition method to add two time objects."
   ]
  },
  {
   "cell_type": "code",
   "execution_count": null,
   "metadata": {},
   "outputs": [],
   "source": []
  }
 ],
 "metadata": {
  "kernelspec": {
   "display_name": "Python 3 (ipykernel)",
   "language": "python",
   "name": "python3"
  },
  "language_info": {
   "codemirror_mode": {
    "name": "ipython",
    "version": 3
   },
   "file_extension": ".py",
   "mimetype": "text/x-python",
   "name": "python",
   "nbconvert_exporter": "python",
   "pygments_lexer": "ipython3",
   "version": "3.12.7"
  }
 },
 "nbformat": 4,
 "nbformat_minor": 4
}

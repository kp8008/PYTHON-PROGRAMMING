{
 "cells": [
  {
   "cell_type": "markdown",
   "metadata": {},
   "source": [
    "<a href='https://www.darshan.ac.in/'> <img src='https://www.darshan.ac.in/Content/media/DU_Logo.svg' width=\"250\" height=\"300\"/></a>\n",
    "<pre>\n",
    "<center><b><h1>Python Programming - 2301CS404</b></center>\n",
    "<center><b><h1>Lab - 7</b></center>    \n",
    "<pre>"
   ]
  },
  {
   "cell_type": "markdown",
   "metadata": {},
   "source": [
    "# Set & Dictionary"
   ]
  },
  {
   "cell_type": "markdown",
   "metadata": {},
   "source": [
    "### 01) WAP to iterate over a set."
   ]
  },
  {
   "cell_type": "code",
   "execution_count": 10,
   "metadata": {},
   "outputs": [
    {
     "name": "stdout",
     "output_type": "stream",
     "text": [
      "1\n",
      "2\n",
      "3\n",
      "4\n",
      "5\n"
     ]
    }
   ],
   "source": [
    "s1={1,2,3,4,5}\n",
    "for i in s1:\n",
    "    print(i)"
   ]
  },
  {
   "cell_type": "markdown",
   "metadata": {},
   "source": [
    "### 02) WAP to convert set into list, string and tuple."
   ]
  },
  {
   "cell_type": "code",
   "execution_count": 25,
   "metadata": {},
   "outputs": [
    {
     "name": "stdout",
     "output_type": "stream",
     "text": [
      "string is: {1, 2, 3, 4}\n",
      "list is: [1, 2, 3, 4]\n",
      "tupel is: (1, 2, 3, 4)\n"
     ]
    }
   ],
   "source": [
    "s={1,2,3,4}\n",
    "l1=str(s)\n",
    "l2=list(s)\n",
    "l3=tuple(s)\n",
    "\n",
    "print(\"string is:\",l1)\n",
    "print(\"list is:\",l2)\n",
    "print(\"tupel is:\",l3)"
   ]
  },
  {
   "cell_type": "markdown",
   "metadata": {},
   "source": [
    "### 03) WAP to find Maximum and Minimum from a set."
   ]
  },
  {
   "cell_type": "code",
   "execution_count": 36,
   "metadata": {},
   "outputs": [
    {
     "name": "stdout",
     "output_type": "stream",
     "text": [
      "maximum number is 5\n",
      "minimum number is 1\n"
     ]
    }
   ],
   "source": [
    "s3={1,2,3,4,5}\n",
    "max_value=max(s3)\n",
    "min_value=min(s3)\n",
    "\n",
    "print(\"maximum number is\",max_value)\n",
    "print(\"minimum number is\",min_value)"
   ]
  },
  {
   "cell_type": "markdown",
   "metadata": {},
   "source": [
    "### 04) WAP to perform union of two sets."
   ]
  },
  {
   "cell_type": "code",
   "execution_count": 38,
   "metadata": {},
   "outputs": [
    {
     "name": "stdout",
     "output_type": "stream",
     "text": [
      "union of A and B is: {1, 2, 3, 4, 5}\n"
     ]
    }
   ],
   "source": [
    "s4={1,2,3}\n",
    "s5={2,4,5}\n",
    "us1= s4|s5\n",
    "\n",
    "print(\"union of A and B is:\",us1)"
   ]
  },
  {
   "cell_type": "markdown",
   "metadata": {},
   "source": [
    "### 05) WAP to check if two lists have at-least one element common."
   ]
  },
  {
   "cell_type": "code",
   "execution_count": 40,
   "metadata": {},
   "outputs": [
    {
     "name": "stdout",
     "output_type": "stream",
     "text": [
      "True\n"
     ]
    }
   ],
   "source": [
    "s6=[1,2,3]\n",
    "s7=[3,4,5]\n",
    "\n",
    "c=bool(set(s6) & set(s7))\n",
    "print(c)"
   ]
  },
  {
   "cell_type": "markdown",
   "metadata": {},
   "source": [
    "### 06) WAP to remove duplicates from list."
   ]
  },
  {
   "cell_type": "code",
   "execution_count": 42,
   "metadata": {},
   "outputs": [
    {
     "name": "stdout",
     "output_type": "stream",
     "text": [
      "[1, 2, 3, 4, 5, 6, 7, 8]\n"
     ]
    }
   ],
   "source": [
    "l1=[1,2,3,4,5,6,4,2,5,7,8,1]\n",
    "s2=set(l1)\n",
    "l1=list(s2)\n",
    "print(l1)"
   ]
  },
  {
   "cell_type": "markdown",
   "metadata": {},
   "source": [
    "### 07) WAP to find unique words in the given string."
   ]
  },
  {
   "cell_type": "code",
   "execution_count": 46,
   "metadata": {},
   "outputs": [
    {
     "name": "stdout",
     "output_type": "stream",
     "text": [
      "{'i', 'dhruv', 'hello', 'prince,', 'am', 'hi'}\n"
     ]
    }
   ],
   "source": [
    "s2=\"hi i am prince, hello i am dhruv\"\n",
    "s9=set(s2.split(\" \"))\n",
    "print(s9)"
   ]
  },
  {
   "cell_type": "markdown",
   "metadata": {},
   "source": [
    "### 08) WAP to remove common elements of set A & B from set A."
   ]
  },
  {
   "cell_type": "code",
   "execution_count": 48,
   "metadata": {},
   "outputs": [
    {
     "name": "stdout",
     "output_type": "stream",
     "text": [
      "after remove common elements from set A: {1, 2, 3}\n"
     ]
    }
   ],
   "source": [
    "set_A = {1, 2, 3, 4, 5}\n",
    "set_B = {4, 5, 6, 7,8}\n",
    "\n",
    "set_A = set_A - (set_A & set_B)\n",
    "print(\"after remove common elements from set A:\", set_A)\n"
   ]
  },
  {
   "cell_type": "markdown",
   "metadata": {},
   "source": [
    "### 09) WAP to check whether two given strings are anagram or not using set."
   ]
  },
  {
   "cell_type": "code",
   "execution_count": 60,
   "metadata": {},
   "outputs": [
    {
     "name": "stdin",
     "output_type": "stream",
     "text": [
      "first string:  aab\n",
      "second string:  bba\n"
     ]
    },
    {
     "name": "stdout",
     "output_type": "stream",
     "text": [
      "not anagrams\n"
     ]
    }
   ],
   "source": [
    "str1 = input(\"first string: \")\n",
    "str2 = input(\"second string: \")\n",
    "\n",
    "if len(str1) != len(str2):\n",
    "    print(\"enter valid input\")\n",
    "else:\n",
    "    \n",
    "    dict1 = {}\n",
    "    dict2 = {}\n",
    "\n",
    "    for char in str1:\n",
    "        if char in dict1:\n",
    "            dict1[char] += 1\n",
    "        else:\n",
    "            dict1[char] = 1\n",
    "\n",
    "    for char in str2:\n",
    "        if char in dict2:\n",
    "            dict2[char] += 1\n",
    "        else:\n",
    "            dict2[char] = 1\n",
    "\n",
    "    if dict1 == dict2:\n",
    "        print(\"anagrams\")\n",
    "    else:\n",
    "        print(\"not anagrams\")"
   ]
  },
  {
   "cell_type": "markdown",
   "metadata": {},
   "source": [
    "### 10) WAP to find common elements in three lists using set."
   ]
  },
  {
   "cell_type": "code",
   "execution_count": 70,
   "metadata": {},
   "outputs": [
    {
     "name": "stdout",
     "output_type": "stream",
     "text": [
      "Common elements: {4, 5}\n"
     ]
    }
   ],
   "source": [
    "l1 = [1, 2, 3, 4, 5]\n",
    "l2 = [ 4, 5, 6, 7,8]\n",
    "l3 = [4, 5, 8, 9, 10]\n",
    "\n",
    "set1 = set(l1)\n",
    "set2 = set(l2)\n",
    "set3 = set(l3)\n",
    "\n",
    "common_elements = set1 & set2 & set3\n",
    "\n",
    "print(\"Common elements:\", common_elements)"
   ]
  },
  {
   "cell_type": "markdown",
   "metadata": {},
   "source": [
    "### 11) WAP to count number of vowels in given string using set."
   ]
  },
  {
   "cell_type": "code",
   "execution_count": 64,
   "metadata": {},
   "outputs": [
    {
     "name": "stdout",
     "output_type": "stream",
     "text": [
      "Number of vowels : 7\n"
     ]
    }
   ],
   "source": [
    "s5=\"i am prince ,and you?\"\n",
    "v={'a','e','i','o','u'}\n",
    "cv=sum(1 for char in s5.lower() if char in v)\n",
    "\n",
    "print(\"Number of vowels :\",cv)"
   ]
  },
  {
   "cell_type": "markdown",
   "metadata": {},
   "source": [
    "### 12) WAP to check if a given string is binary string or not."
   ]
  },
  {
   "cell_type": "code",
   "execution_count": 66,
   "metadata": {},
   "outputs": [
    {
     "name": "stdout",
     "output_type": "stream",
     "text": [
      "binary string : False\n"
     ]
    }
   ],
   "source": [
    "s6='10111000112'\n",
    "binary=set(s6).issubset({'0','1'})\n",
    "print(\"binary string :\",binary)"
   ]
  },
  {
   "cell_type": "markdown",
   "metadata": {},
   "source": [
    "### 13) WAP to sort dictionary by key or value."
   ]
  },
  {
   "cell_type": "code",
   "execution_count": 91,
   "metadata": {},
   "outputs": [
    {
     "name": "stdout",
     "output_type": "stream",
     "text": [
      "{1: 'b', 2: 'c', 3: 'a'}\n",
      "{3: 'a', 1: 'b', 2: 'c'}\n"
     ]
    }
   ],
   "source": [
    "dic = {1:'b',2:'c',3:'a'}\n",
    "\n",
    "sort_key = dict(sorted(dic.items()))\n",
    "print(sort_key)\n",
    "\n",
    "sort_value = dict(sorted(dic.items(),key = lambda item : item[1]))\n",
    "print(sort_value)"
   ]
  },
  {
   "cell_type": "markdown",
   "metadata": {},
   "source": [
    "### 14) WAP to find the sum of all items (values) in a dictionary given by user. (Assume: values are numeric)"
   ]
  },
  {
   "cell_type": "code",
   "execution_count": 82,
   "metadata": {},
   "outputs": [
    {
     "name": "stdout",
     "output_type": "stream",
     "text": [
      "Sum of all values: 30\n"
     ]
    }
   ],
   "source": [
    "Dict = {'a': 5, 'b': 10, 'c': 15}\n",
    "total = sum(Dict.values())\n",
    "\n",
    "print(\"Sum of all values:\", total)"
   ]
  },
  {
   "cell_type": "markdown",
   "metadata": {},
   "source": [
    "### 15) WAP to handle missing keys in dictionaries.\n",
    "#### Example : Given, dict1 = {'a': 5, 'c': 8, 'e': 2} \n",
    "#### if you look for key = 'd', the message given should be 'Key Not Found', otherwise print the value of 'd' in dict1."
   ]
  },
  {
   "cell_type": "code",
   "execution_count": 78,
   "metadata": {},
   "outputs": [
    {
     "name": "stdout",
     "output_type": "stream",
     "text": [
      "Value of 'd': Key Not Found\n"
     ]
    }
   ],
   "source": [
    "Dict = {'a': 5, 'c': 8, 'e': 2}\n",
    "\n",
    "key = 'd'\n",
    "value = Dict.get(key, 'Key Not Found')\n",
    "\n",
    "print(f\"Value of '{key}': {value}\")"
   ]
  }
 ],
 "metadata": {
  "kernelspec": {
   "display_name": "Python 3 (ipykernel)",
   "language": "python",
   "name": "python3"
  },
  "language_info": {
   "codemirror_mode": {
    "name": "ipython",
    "version": 3
   },
   "file_extension": ".py",
   "mimetype": "text/x-python",
   "name": "python",
   "nbconvert_exporter": "python",
   "pygments_lexer": "ipython3",
   "version": "3.12.7"
  }
 },
 "nbformat": 4,
 "nbformat_minor": 4
}

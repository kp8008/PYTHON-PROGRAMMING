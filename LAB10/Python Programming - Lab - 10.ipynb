{
 "cells": [
  {
   "cell_type": "markdown",
   "metadata": {},
   "source": [
    "<a href='https://www.darshan.ac.in/'> <img src='https://www.darshan.ac.in/Content/media/DU_Logo.svg' width=\"250\" height=\"300\"/></a>\n",
    "<pre>\n",
    "<center><b><h1>Python Programming - 2301CS404</b></center>\n",
    "<center><b><h1>Lab - 10</b></center>    \n",
    "<pre>"
   ]
  },
  {
   "cell_type": "markdown",
   "metadata": {},
   "source": [
    "# Exception Handling"
   ]
  },
  {
   "cell_type": "markdown",
   "metadata": {},
   "source": [
    "### 01) WAP to handle following exceptions:\n",
    "1. ZeroDivisionError\n",
    "2. ValueError\n",
    "3. TypeError\n",
    "#### Note: handle them using separate except blocks and also using single except block too."
   ]
  },
  {
   "cell_type": "code",
   "execution_count": 20,
   "metadata": {},
   "outputs": [
    {
     "name": "stdin",
     "output_type": "stream",
     "text": [
      "enter no :  12\n",
      "enter no :  dd\n"
     ]
    },
    {
     "name": "stdout",
     "output_type": "stream",
     "text": [
      "invalid input\n"
     ]
    }
   ],
   "source": [
    "try: \n",
    "    x=int(input(\"enter no : \"))\n",
    "    y=int(input(\"enter no : \"))\n",
    "\n",
    "    result=x/y\n",
    " \n",
    "    print(\"result\",result)\n",
    "except ZeroDivisionError:\n",
    "    print(\"cannot be divide wd 0\")\n",
    "except ValueError:\n",
    "    print(\"invalid input\")\n",
    "except TypeError:\n",
    "    print(\"type mistake\")"
   ]
  },
  {
   "cell_type": "markdown",
   "metadata": {},
   "source": [
    "### 02)  WAP to handle following exceptions:\n",
    "1. IndexError\n",
    "2. KeyError"
   ]
  },
  {
   "cell_type": "code",
   "execution_count": 22,
   "metadata": {},
   "outputs": [
    {
     "name": "stdout",
     "output_type": "stream",
     "text": [
      "3\n",
      "key error\n"
     ]
    }
   ],
   "source": [
    "list=[1,2,3]\n",
    "dic={\"name\":\"kp\",\"roll\":7}\n",
    "try:\n",
    "    print(list[2])\n",
    "    print(dic[\"no\"])\n",
    "\n",
    "except IndexError:\n",
    "    print(\"index error\")\n",
    "\n",
    "except KeyError:\n",
    "    print(\"key error\")"
   ]
  },
  {
   "cell_type": "markdown",
   "metadata": {},
   "source": [
    "### 03) WAP to handle following exceptions:\n",
    "1. FileNotFoundError\n",
    "2. ModuleNotFoundError"
   ]
  },
  {
   "cell_type": "code",
   "execution_count": 40,
   "metadata": {},
   "outputs": [
    {
     "name": "stdout",
     "output_type": "stream",
     "text": [
      "[Errno 2] No such file or directory: 'abc1.txt'\n",
      "enter :  No module named 'non_existent_module'\n"
     ]
    }
   ],
   "source": [
    "try:\n",
    " fp = open(\"abc1.txt\",\"r\")\n",
    "except FileNotFoundError as err:\n",
    " print(err)\n",
    "else:\n",
    " print(fp.read())\n",
    " fp.close()\n",
    "\n",
    "try:\n",
    "    import non_existent_module\n",
    "except ModuleNotFoundError as a:\n",
    "    print(\"enter : \",str(a))\n"
   ]
  },
  {
   "cell_type": "markdown",
   "metadata": {},
   "source": [
    "### 04) WAP that catches all type of exceptions in a single except block."
   ]
  },
  {
   "cell_type": "code",
   "execution_count": 46,
   "metadata": {},
   "outputs": [
    {
     "name": "stdin",
     "output_type": "stream",
     "text": [
      "1st no : 1\n",
      "2nd no : abc\n"
     ]
    },
    {
     "name": "stdout",
     "output_type": "stream",
     "text": [
      "Error:invalid literal for int() with base 10: 'abc'\n"
     ]
    }
   ],
   "source": [
    "try:\n",
    "    a=int(input(\"1st no :\"))\n",
    "    b=int(input(\"2nd no :\"))\n",
    "    c=a/b\n",
    "    print(\"result :\",c)\n",
    "except Exception as e:\n",
    "    print(f\"Error:{e}\")\n"
   ]
  },
  {
   "cell_type": "markdown",
   "metadata": {},
   "source": [
    "### 05) WAP to demonstrate else  and finally block."
   ]
  },
  {
   "cell_type": "code",
   "execution_count": 36,
   "metadata": {},
   "outputs": [
    {
     "name": "stdin",
     "output_type": "stream",
     "text": [
      "1st no : 45\n",
      "2nd no : 2\n"
     ]
    },
    {
     "name": "stdout",
     "output_type": "stream",
     "text": [
      "result: 0.5217391304347826\n",
      "done\n"
     ]
    }
   ],
   "source": [
    "try:\n",
    "    a=int(input(\"1st no :\"))\n",
    "    b=int(input(\"2nd no :\"))\n",
    "    c=a/b\n",
    "except Exception as e:\n",
    "    print(\"Error:{e}\")\n",
    "else:\n",
    "    print(\"result:\",result)\n",
    "finally:\n",
    "    print(\"done\")"
   ]
  },
  {
   "cell_type": "markdown",
   "metadata": {},
   "source": [
    "### 06) Create a short program that prompts the user for a list of grades separated by commas. \n",
    "### Split the string into individual grades and use a list comprehension to convert each string to an integer. \n",
    "### You should use a try statement to inform the user when the values they entered cannot be converted."
   ]
  },
  {
   "cell_type": "code",
   "execution_count": 54,
   "metadata": {},
   "outputs": [
    {
     "name": "stdin",
     "output_type": "stream",
     "text": [
      "enter grade 1,2,3,4\n"
     ]
    },
    {
     "name": "stdout",
     "output_type": "stream",
     "text": [
      "grades [1, 2, 3, 4]\n"
     ]
    }
   ],
   "source": [
    "grade_input = input(\"enter grade\")\n",
    "try:\n",
    "    grades=[int(grade) for grade in grade_input.split(',')]\n",
    "    print(\"grades\",grades)\n",
    "except ValueError:\n",
    "    print(\"error: plz enter valid grades separated by commas,with no non-numeric value.\")"
   ]
  },
  {
   "cell_type": "markdown",
   "metadata": {},
   "source": [
    "### 07) WAP to create an udf divide(a,b) that handles ZeroDivisionError."
   ]
  },
  {
   "cell_type": "code",
   "execution_count": 66,
   "metadata": {},
   "outputs": [
    {
     "name": "stdin",
     "output_type": "stream",
     "text": [
      "Enter numerator:  10\n",
      "Enter denominator:  0\n"
     ]
    },
    {
     "name": "stdout",
     "output_type": "stream",
     "text": [
      "Result: 0.5\n"
     ]
    }
   ],
   "source": [
    "def divide(a,b):\n",
    "    try:\n",
    "        result = a/b\n",
    "        return result\n",
    "    except ZeroDivisionError:\n",
    "        print(\"error: cannot divide by 0\")\n",
    "        return None\n",
    "print(divide(10,2))\n",
    "print(divide(10,0))"
   ]
  },
  {
   "cell_type": "markdown",
   "metadata": {},
   "source": [
    "### 08) WAP that gets an age of a person form the user and raises ValueError with error message: \"Enter Valid Age\" :\n",
    "#### If the age is less than 18. \n",
    "#### otherwise print the age."
   ]
  },
  {
   "cell_type": "code",
   "execution_count": 70,
   "metadata": {},
   "outputs": [
    {
     "name": "stdin",
     "output_type": "stream",
     "text": [
      "Enter your age:  14\n"
     ]
    },
    {
     "name": "stdout",
     "output_type": "stream",
     "text": [
      "Error: Enter Valid Age\n"
     ]
    }
   ],
   "source": [
    "try:\n",
    "    age = int(input(\"Enter your age: \"))\n",
    "    if age < 18:\n",
    "        raise ValueError(\"Enter Valid Age\")\n",
    "    print(\"Your age is:\", age)\n",
    "except ValueError as e:\n",
    "    print(\"Error:\", e)"
   ]
  },
  {
   "cell_type": "markdown",
   "metadata": {},
   "source": [
    "### 09) WAP to raise your custom Exception named InvalidUsernameError with the error message : \"Username must be between 5 and 15 characters long\":\n",
    "#### if the given name is having characters less than 5 or greater than 15.\n",
    "#### otherwise print the given username."
   ]
  },
  {
   "cell_type": "code",
   "execution_count": 58,
   "metadata": {},
   "outputs": [
    {
     "name": "stdin",
     "output_type": "stream",
     "text": [
      "Enter your username:  kp\n"
     ]
    },
    {
     "name": "stdout",
     "output_type": "stream",
     "text": [
      "Error: Username must be between 5 and 15 characters long\n"
     ]
    }
   ],
   "source": [
    "try:\n",
    "    un = input(\"Enter your username: \")\n",
    "    \n",
    "    if len(un) < 5 or len(un) > 15:\n",
    "        raise Exception(\"Username must be between 5 and 15 characters long\")\n",
    "    print(\"Your username is:\", un)\n",
    "except Exception as e:\n",
    "    print(\"Error:\", e)"
   ]
  },
  {
   "cell_type": "markdown",
   "metadata": {},
   "source": [
    "### 10) WAP to raise your custom Exception named NegativeNumberError with the error message : \"Cannot calculate the square root of a negative number\" :\n",
    "#### if the given number is negative.\n",
    "#### otherwise print the square root of the given number."
   ]
  },
  {
   "cell_type": "code",
   "execution_count": 60,
   "metadata": {},
   "outputs": [
    {
     "name": "stdin",
     "output_type": "stream",
     "text": [
      "Enter a number:  4578\n"
     ]
    },
    {
     "name": "stdout",
     "output_type": "stream",
     "text": [
      "Square root: 67.66091929614909\n"
     ]
    }
   ],
   "source": [
    "import math\n",
    "try:\n",
    "    num = float(input(\"Enter a number: \"))\n",
    "    if num < 0:\n",
    "        raise Exception(\"Cannot calculate the square root of a negative number\")\n",
    "    print(\"Square root:\", math.sqrt(num))\n",
    "except Exception as e:\n",
    "    print(\"Error:\", e)\n",
    "except ValueError:\n",
    "    print(\"Error: Please enter a valid number\")\n"
   ]
  },
  {
   "cell_type": "code",
   "execution_count": null,
   "metadata": {},
   "outputs": [],
   "source": []
  }
 ],
 "metadata": {
  "kernelspec": {
   "display_name": "Python 3 (ipykernel)",
   "language": "python",
   "name": "python3"
  },
  "language_info": {
   "codemirror_mode": {
    "name": "ipython",
    "version": 3
   },
   "file_extension": ".py",
   "mimetype": "text/x-python",
   "name": "python",
   "nbconvert_exporter": "python",
   "pygments_lexer": "ipython3",
   "version": "3.12.7"
  }
 },
 "nbformat": 4,
 "nbformat_minor": 4
}
